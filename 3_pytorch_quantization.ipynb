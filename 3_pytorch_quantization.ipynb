{
  "nbformat": 4,
  "nbformat_minor": 0,
  "metadata": {
    "colab": {
      "provenance": [],
      "authorship_tag": "ABX9TyM+uxiW4KILfoTF/Ug8kUS2",
      "include_colab_link": true
    },
    "kernelspec": {
      "name": "python3",
      "display_name": "Python 3"
    },
    "language_info": {
      "name": "python"
    }
  },
  "cells": [
    {
      "cell_type": "markdown",
      "metadata": {
        "id": "view-in-github",
        "colab_type": "text"
      },
      "source": [
        "<a href=\"https://colab.research.google.com/github/gulabpatel/Knowledge_Distillation/blob/main/3_pytorch_quantization.ipynb\" target=\"_parent\"><img src=\"https://colab.research.google.com/assets/colab-badge.svg\" alt=\"Open In Colab\"/></a>"
      ]
    },
    {
      "cell_type": "markdown",
      "source": [
        "##Calibration\n",
        "The process of choosing the input clipping range is known as calibration. The simplest technique (also the default in PyTorch) is to record the running mininmum and maximum values and assign them to  and . TensorRT also uses entropy minimization (KL divergence), mean-square-error minimization, or percentiles of the input range.\n"
      ],
      "metadata": {
        "id": "3AH2w6VNYhQ4"
      }
    },
    {
      "cell_type": "code",
      "source": [
        "import torch\n",
        "import numpy as np\n",
        "import matplotlib.pyplot as plt\n"
      ],
      "metadata": {
        "id": "19Vm3QPSZrqq"
      },
      "execution_count": 7,
      "outputs": []
    },
    {
      "cell_type": "code",
      "execution_count": 3,
      "metadata": {
        "colab": {
          "base_uri": "https://localhost:8080/"
        },
        "id": "9WQnAp6_WjMG",
        "outputId": "d621e229-7d55-4cbc-b8da-5046d3753698"
      },
      "outputs": [
        {
          "output_type": "stream",
          "name": "stdout",
          "text": [
            "[tensor([[-0.7263, -1.4862,  0.4027,  0.2487],\n",
            "        [-0.7735,  0.5579, -0.1400,  0.5003],\n",
            "        [-0.8770, -1.8155, -0.1084, -0.5743]]), tensor([[-0.7071,  1.5024, -1.3229, -0.8100],\n",
            "        [ 0.5470,  1.1638, -0.5730, -0.4987],\n",
            "        [-0.5997, -1.4349,  0.0804,  1.1246]])]\n"
          ]
        }
      ],
      "source": [
        "from torch.quantization.observer import MinMaxObserver, MovingAverageMinMaxObserver, HistogramObserver\n",
        "C, L = 3, 4\n",
        "normal = torch.distributions.normal.Normal(0,1)\n",
        "inputs = [normal.sample((C, L)), normal.sample((C, L))]\n",
        "print(inputs)"
      ]
    },
    {
      "cell_type": "code",
      "source": [
        "observers = [MinMaxObserver(), MovingAverageMinMaxObserver(), HistogramObserver()]\n",
        "for obs in observers:\n",
        "  for x in inputs:\n",
        "     obs(x) \n",
        "  print(obs.__class__.__name__, obs.calculate_qparams())\n"
      ],
      "metadata": {
        "colab": {
          "base_uri": "https://localhost:8080/"
        },
        "id": "Mgc9Mab1ZnIp",
        "outputId": "1e66a13a-7ca3-457d-9c6e-bdcd6989a7cd"
      },
      "execution_count": 5,
      "outputs": [
        {
          "output_type": "stream",
          "name": "stdout",
          "text": [
            "MinMaxObserver (tensor([0.0130]), tensor([140], dtype=torch.int32))\n",
            "MovingAverageMinMaxObserver (tensor([0.0093]), tensor([194], dtype=torch.int32))\n",
            "HistogramObserver (tensor([0.0101]), tensor([180], dtype=torch.int32))\n"
          ]
        }
      ]
    },
    {
      "cell_type": "markdown",
      "source": [
        "## Affine and Symmetric Quantization Schemes"
      ],
      "metadata": {
        "id": "CE-wfG0PaHVW"
      }
    },
    {
      "cell_type": "code",
      "source": [
        "act =  torch.distributions.pareto.Pareto(1, 10).sample((1,1024))\n",
        "weights = torch.distributions.normal.Normal(0, 0.12).sample((3, 64, 7, 7)).flatten()"
      ],
      "metadata": {
        "id": "Gxda6qTPZ7MW"
      },
      "execution_count": 6,
      "outputs": []
    },
    {
      "cell_type": "code",
      "source": [
        "def get_symmetric_range(x):\n",
        "  beta = torch.max(x.max(), x.min().abs())\n",
        "  return -beta.item(), beta.item()\n",
        "\n",
        "def get_affine_range(x):\n",
        "  return x.min().item(), x.max().item()\n",
        "\n",
        "def plot(plt, data, scheme):\n",
        "  boundaries = get_affine_range(data) if scheme == 'affine' else get_symmetric_range(data)\n",
        "  a, _, _ = plt.hist(data, density=True, bins=100)\n",
        "  ymin, ymax = np.quantile(a[a>0], [0.25, 0.95])\n",
        "  plt.vlines(x=boundaries, ls='--', colors='purple', ymin=ymin, ymax=ymax)\n",
        "\n",
        "fig, axs = plt.subplots(2,2)\n",
        "plot(axs[0, 0], act, 'affine')\n",
        "axs[0, 0].set_title(\"Activation, Affine-Quantized\")\n",
        "\n",
        "plot(axs[0, 1], act, 'symmetric')\n",
        "axs[0, 1].set_title(\"Activation, Symmetric-Quantized\")\n",
        "\n",
        "plot(axs[1, 0], weights, 'affine')\n",
        "axs[1, 0].set_title(\"Weights, Affine-Quantized\")\n",
        "\n",
        "plot(axs[1, 1], weights, 'symmetric')\n",
        "axs[1, 1].set_title(\"Weights, Symmetric-Quantized\")\n",
        "plt.show()"
      ],
      "metadata": {
        "colab": {
          "base_uri": "https://localhost:8080/",
          "height": 298
        },
        "id": "roa61ec_ahis",
        "outputId": "c0c78311-c876-4993-c05e-41f7a9740226"
      },
      "execution_count": 10,
      "outputs": [
        {
          "output_type": "stream",
          "name": "stdout",
          "text": [
            "\n"
          ]
        },
        {
          "output_type": "display_data",
          "data": {
            "text/plain": [
              "<Figure size 432x288 with 4 Axes>"
            ],
            "image/png": "[encoded data removed]"
          },
          "metadata": {
            "needs_background": "light"
          }
        }
      ]
    },
    {
      "cell_type": "markdown",
      "source": [
        "In PyTorch, you can specify affine or symmetric schemes while initializing the Observer. Note that not all observers support both schemes."
      ],
      "metadata": {
        "id": "EubEAsxRboDl"
      }
    },
    {
      "cell_type": "code",
      "source": [
        "for qscheme in [torch.per_tensor_affine, torch.per_tensor_symmetric]:\n",
        "  obs = MovingAverageMinMaxObserver(qscheme=qscheme)\n",
        "  for x in inputs: obs(x)\n",
        "  print(f\"Qscheme: {qscheme} | {obs.calculate_qparams()}\")"
      ],
      "metadata": {
        "colab": {
          "base_uri": "https://localhost:8080/"
        },
        "id": "aRTf8TUVbRBb",
        "outputId": "cf92cfb5-3e11-4513-e98b-6e4933a70711"
      },
      "execution_count": 12,
      "outputs": [
        {
          "output_type": "stream",
          "name": "stdout",
          "text": [
            "Qscheme: torch.per_tensor_affine | (tensor([0.0093]), tensor([194], dtype=torch.int32))\n",
            "Qscheme: torch.per_tensor_symmetric | (tensor([0.0142]), tensor([128]))\n"
          ]
        }
      ]
    },
    {
      "cell_type": "markdown",
      "source": [
        "For weights quantization, symmetric-per-channel quantization provides better accuracies; per-tensor quantization performs poorly, possibly due to high variance in conv weights across channels from batchnorm folding."
      ],
      "metadata": {
        "id": "C8fZTh9ZcXv9"
      }
    },
    {
      "cell_type": "code",
      "source": [
        "from torch.quantization.observer import MovingAveragePerChannelMinMaxObserver\n",
        "obs = MovingAveragePerChannelMinMaxObserver(ch_axis=0)  # calculate qparams for all `C` channels separately\n",
        "for x in inputs: \n",
        "  obs(x)\n",
        "print(obs.calculate_qparams())"
      ],
      "metadata": {
        "colab": {
          "base_uri": "https://localhost:8080/"
        },
        "id": "usUkkoJcbzl_",
        "outputId": "b08c1a60-79dd-41a7-f3a7-deabf8258924"
      },
      "execution_count": 13,
      "outputs": [
        {
          "output_type": "stream",
          "name": "stdout",
          "text": [
            "(tensor([0.0074, 0.0052, 0.0071]), tensor([199, 147, 255], dtype=torch.int32))\n"
          ]
        }
      ]
    },
    {
      "cell_type": "code",
      "source": [
        "my_qconfig = torch.quantization.QConfig(\n",
        "  activation=MovingAverageMinMaxObserver.with_args(qscheme=torch.per_tensor_affine),\n",
        "  weight=MovingAveragePerChannelMinMaxObserver.with_args(qscheme=torch.qint8)\n",
        ")\n",
        "print(my_qconfig)"
      ],
      "metadata": {
        "colab": {
          "base_uri": "https://localhost:8080/"
        },
        "id": "_zN_3aAUcrM7",
        "outputId": "710122cc-52ee-42b9-ec3b-c2cf76c98d03"
      },
      "execution_count": 15,
      "outputs": [
        {
          "output_type": "stream",
          "name": "stdout",
          "text": [
            "QConfig(activation=functools.partial(<class 'torch.ao.quantization.observer.MovingAverageMinMaxObserver'>, qscheme=torch.per_tensor_affine){}, weight=functools.partial(<class 'torch.ao.quantization.observer.MovingAveragePerChannelMinMaxObserver'>, qscheme=torch.qint8){})\n"
          ]
        }
      ]
    },
    {
      "cell_type": "markdown",
      "source": [
        "## Post-Training Dynamic/Weight-only Quantization\n",
        "\n",
        "\n",
        "Here the model’s weights are pre-quantized; the activations are quantized on-the-fly (“dynamic”) during inference. The simplest of all approaches, it has a one line API call in torch.quantization.quantize_dynamic. Currently only Linear and Recurrent (LSTM, GRU, RNN) layers are supported for dynamic quantization.\n",
        "\n"
      ],
      "metadata": {
        "id": "hdVp4KSIeOAt"
      }
    },
    {
      "cell_type": "code",
      "source": [
        "import torch\n",
        "from torch import nn\n",
        "\n",
        "# toy model\n",
        "m = nn.Sequential(\n",
        "  nn.Conv2d(2, 64, (8,)),\n",
        "  nn.ReLU(),\n",
        "  nn.Linear(16,10),\n",
        "  nn.LSTM(10, 10))\n",
        "\n",
        "m.eval()\n",
        "\n",
        "## EAGER MODE\n",
        "from torch.quantization import quantize_dynamic\n",
        "model_quantized = quantize_dynamic(\n",
        "    model=m, qconfig_spec={nn.LSTM, nn.Linear}, dtype=torch.qint8, inplace=False\n",
        ")\n"
      ],
      "metadata": {
        "id": "m7AmuA6fc5Sv"
      },
      "execution_count": 16,
      "outputs": []
    },
    {
      "cell_type": "code",
      "source": [
        "## FX MODE\n",
        "from torch.quantization import quantize_fx\n",
        "qconfig_dict = {\"\": torch.quantization.default_dynamic_qconfig}  # An empty key denotes the default applied to all modules\n",
        "model_prepared = quantize_fx.prepare_fx(m, qconfig_dict, example_inputs=torch.rand(1, 3, 224, 224))\n",
        "model_quantized = quantize_fx.convert_fx(model_prepared)"
      ],
      "metadata": {
        "id": "ZAZyAoO_ewlC"
      },
      "execution_count": 21,
      "outputs": []
    },
    {
      "cell_type": "markdown",
      "source": [
        "##Post-Training Static Quantization (PTQ)\n",
        "\n",
        "Module fusion combines multiple sequential modules (eg: [Conv2d, BatchNorm, ReLU]) into one. Fusing modules means the compiler needs to only run one kernel instead of many; this speeds things up and improves accuracy by reducing quantization error.\n",
        "\n",
        "(+) Static quantization has faster inference than dynamic quantization because it eliminates the float<->int conversion costs between layers.\n",
        "\n",
        "(-) Static quantized models may need regular re-calibration to stay robust against distribution-drift.\n"
      ],
      "metadata": {
        "id": "L8jFDxiqgU06"
      }
    },
    {
      "cell_type": "code",
      "source": [
        "import torch\n",
        "from torch import nn\n",
        "import copy\n",
        "\n",
        "backend = \"fbgemm\"  # running on a x86 CPU. Use \"qnnpack\" if running on ARM.\n",
        "\n",
        "model = nn.Sequential(\n",
        "     nn.Conv2d(2,64,3),\n",
        "     nn.ReLU(),\n",
        "     nn.Conv2d(64, 128, 3),\n",
        "     nn.ReLU()\n",
        ")\n",
        "\n",
        "## EAGER MODE\n",
        "m = copy.deepcopy(model)\n",
        "m.eval()\n",
        "\"\"\"Fuse\n",
        "- Inplace fusion replaces the first module in the sequence with the fused module, and the rest with identity modules\n",
        "\"\"\"\n",
        "torch.quantization.fuse_modules(m, ['0','1'], inplace=True) # fuse first Conv-ReLU pair\n",
        "torch.quantization.fuse_modules(m, ['2','3'], inplace=True) # fuse second Conv-ReLU pair\n"
      ],
      "metadata": {
        "colab": {
          "base_uri": "https://localhost:8080/"
        },
        "id": "dTYne8Ile5BN",
        "outputId": "421c7829-e3ff-4514-b68e-cc3684083d4f"
      },
      "execution_count": 22,
      "outputs": [
        {
          "output_type": "execute_result",
          "data": {
            "text/plain": [
              "Sequential(\n",
              "  (0): ConvReLU2d(\n",
              "    (0): Conv2d(2, 64, kernel_size=(3, 3), stride=(1, 1))\n",
              "    (1): ReLU()\n",
              "  )\n",
              "  (1): Identity()\n",
              "  (2): ConvReLU2d(\n",
              "    (0): Conv2d(64, 128, kernel_size=(3, 3), stride=(1, 1))\n",
              "    (1): ReLU()\n",
              "  )\n",
              "  (3): Identity()\n",
              ")"
            ]
          },
          "metadata": {},
          "execution_count": 22
        }
      ]
    },
    {
      "cell_type": "code",
      "source": [
        "\"\"\"Insert stubs\"\"\"\n",
        "m = nn.Sequential(torch.quantization.QuantStub(), \n",
        "                  *m, \n",
        "                  torch.quantization.DeQuantStub())\n",
        "\n",
        "\"\"\"Prepare\"\"\"\n",
        "m.qconfig = torch.quantization.get_default_qconfig(backend)\n",
        "torch.quantization.prepare(m, inplace=True)\n",
        "\n",
        "\"\"\"Calibrate\n",
        "- This example uses random data for convenience. Use representative (validation) data instead.\n",
        "\"\"\"\n",
        "with torch.inference_mode():\n",
        "  for _ in range(10):\n",
        "    x = torch.rand(1,2, 28, 28)\n",
        "    m(x)\n",
        "    \n",
        "\"\"\"Convert\"\"\"\n",
        "torch.quantization.convert(m, inplace=True)\n",
        "\n",
        "\"\"\"Check\"\"\"\n",
        "print(m[1].weight().element_size()) # 1 byte instead of 4 bytes for FP32\n"
      ],
      "metadata": {
        "colab": {
          "base_uri": "https://localhost:8080/"
        },
        "id": "fGpM3wyIhFhA",
        "outputId": "9f20c9ac-4610-427e-a9c6-dd962402ceb6"
      },
      "execution_count": 28,
      "outputs": [
        {
          "output_type": "stream",
          "name": "stdout",
          "text": [
            "1\n"
          ]
        }
      ]
    },
    {
      "cell_type": "code",
      "source": [
        "## FX GRAPH\n",
        "from torch.quantization import quantize_fx\n",
        "m = copy.deepcopy(model)\n",
        "m.eval()\n",
        "qconfig_dict = {\"\": torch.quantization.get_default_qconfig(backend)}\n",
        "# Prepare\n",
        "model_prepared = quantize_fx.prepare_fx(m, qconfig_dict,example_inputs=torch.rand(1, 3, 224, 224))\n",
        "# Calibrate - Use representative (validation) data.\n",
        "with torch.inference_mode():\n",
        "  for _ in range(10):\n",
        "    x = torch.rand(1,2,28, 28)\n",
        "    model_prepared(x)\n",
        "# quantize\n",
        "model_quantized = quantize_fx.convert_fx(model_prepared)"
      ],
      "metadata": {
        "id": "tEGSINaihihG"
      },
      "execution_count": 26,
      "outputs": []
    },
    {
      "cell_type": "markdown",
      "source": [
        "## Quantization-aware Training (QAT)\n"
      ],
      "metadata": {
        "id": "tgt7V0oyh825"
      }
    },
    {
      "cell_type": "code",
      "source": [
        "import torch\n",
        "from torch import nn\n",
        "\n",
        "backend = \"fbgemm\"  # running on a x86 CPU. Use \"qnnpack\" if running on ARM.\n",
        "\n",
        "m = nn.Sequential(\n",
        "     nn.Conv2d(2,64,8),\n",
        "     nn.ReLU(),\n",
        "     nn.Conv2d(64, 128, 8),\n",
        "     nn.ReLU()\n",
        ")\n",
        "\n",
        "\"\"\"Fuse\"\"\"\n",
        "torch.quantization.fuse_modules(m, ['0','1'], inplace=True) # fuse first Conv-ReLU pair\n",
        "torch.quantization.fuse_modules(m, ['2','3'], inplace=True) # fuse second Conv-ReLU pair\n",
        "\n",
        "\"\"\"Insert stubs\"\"\"\n",
        "m = nn.Sequential(torch.quantization.QuantStub(), \n",
        "                  *m, \n",
        "                  torch.quantization.DeQuantStub())"
      ],
      "metadata": {
        "id": "GR4-gGJjhlYy"
      },
      "execution_count": 29,
      "outputs": []
    },
    {
      "cell_type": "code",
      "source": [
        "\"\"\"Prepare\"\"\"\n",
        "m.train()\n",
        "m.qconfig = torch.quantization.get_default_qconfig(backend)\n",
        "torch.quantization.prepare_qat(m, inplace=True)"
      ],
      "metadata": {
        "colab": {
          "base_uri": "https://localhost:8080/"
        },
        "id": "nLQ-LMDJiUXq",
        "outputId": "1ca8e6f8-6448-4345-b030-80287f58cc84"
      },
      "execution_count": 30,
      "outputs": [
        {
          "output_type": "execute_result",
          "data": {
            "text/plain": [
              "Sequential(\n",
              "  (0): QuantStub(\n",
              "    (activation_post_process): HistogramObserver(min_val=inf, max_val=-inf)\n",
              "  )\n",
              "  (1): ConvReLU2d(\n",
              "    2, 64, kernel_size=(8, 8), stride=(1, 1)\n",
              "    (weight_fake_quant): PerChannelMinMaxObserver(min_val=tensor([]), max_val=tensor([]))\n",
              "    (activation_post_process): HistogramObserver(min_val=inf, max_val=-inf)\n",
              "  )\n",
              "  (2): Identity()\n",
              "  (3): ConvReLU2d(\n",
              "    64, 128, kernel_size=(8, 8), stride=(1, 1)\n",
              "    (weight_fake_quant): PerChannelMinMaxObserver(min_val=tensor([]), max_val=tensor([]))\n",
              "    (activation_post_process): HistogramObserver(min_val=inf, max_val=-inf)\n",
              "  )\n",
              "  (4): Identity()\n",
              "  (5): DeQuantStub()\n",
              ")"
            ]
          },
          "metadata": {},
          "execution_count": 30
        }
      ]
    },
    {
      "cell_type": "code",
      "source": [
        "\"\"\"Training Loop\"\"\"\n",
        "n_epochs = 10\n",
        "opt = torch.optim.SGD(m.parameters(), lr=0.1)\n",
        "loss_fn = lambda out, tgt: torch.pow(tgt-out, 2).mean()\n",
        "for epoch in range(n_epochs):\n",
        "  x = torch.rand(10,2,24,24)\n",
        "  out = m(x)\n",
        "  loss = loss_fn(out, torch.rand_like(out))\n",
        "  opt.zero_grad()\n",
        "  loss.backward()\n",
        "  opt.step()"
      ],
      "metadata": {
        "id": "aXmlQGy2iWDg"
      },
      "execution_count": 31,
      "outputs": []
    },
    {
      "cell_type": "code",
      "source": [
        "\"\"\"Convert\"\"\"\n",
        "m.eval()\n",
        "torch.quantization.convert(m, inplace=True)"
      ],
      "metadata": {
        "colab": {
          "base_uri": "https://localhost:8080/"
        },
        "id": "VgbNOsTKiX-v",
        "outputId": "f3f91a02-d5dd-4d05-abc4-84fb85026135"
      },
      "execution_count": 32,
      "outputs": [
        {
          "output_type": "execute_result",
          "data": {
            "text/plain": [
              "Sequential(\n",
              "  (0): Quantize(scale=tensor([0.0079]), zero_point=tensor([0]), dtype=torch.quint8)\n",
              "  (1): QuantizedConvReLU2d(2, 64, kernel_size=(8, 8), stride=(1, 1), scale=0.012718189507722855, zero_point=0)\n",
              "  (2): Identity()\n",
              "  (3): QuantizedConvReLU2d(64, 128, kernel_size=(8, 8), stride=(1, 1), scale=0.00597846694290638, zero_point=0)\n",
              "  (4): Identity()\n",
              "  (5): DeQuantize()\n",
              ")"
            ]
          },
          "metadata": {},
          "execution_count": 32
        }
      ]
    },
    {
      "cell_type": "markdown",
      "source": [
        "## SENSITIVITY ANALYSIS"
      ],
      "metadata": {
        "id": "GsfBA0wwino6"
      }
    },
    {
      "cell_type": "code",
      "source": [
        "for quantized_layer, _ in model.named_modules():\n",
        "  print(\"Only quantizing layer: \", quantized_layer)\n",
        "\n",
        "  # The module_name key allows module-specific qconfigs. \n",
        "  qconfig_dict = {\"\": None, \n",
        "  \"module_name\":[(quantized_layer, torch.quantization.get_default_qconfig(backend))]}\n",
        "\n",
        "  model_prepared = quantize_fx.prepare_fx(model, qconfig_dict,example_inputs=torch.rand(1, 3, 224, 224))\n",
        "  # calibrate\n",
        "  model_quantized = quantize_fx.convert_fx(model_prepared)\n",
        "  # evaluate(model)"
      ],
      "metadata": {
        "colab": {
          "base_uri": "https://localhost:8080/"
        },
        "id": "tROZtf8yiZXc",
        "outputId": "62b02382-8875-4c12-93b1-d31c6df7cac9"
      },
      "execution_count": 34,
      "outputs": [
        {
          "output_type": "stream",
          "name": "stdout",
          "text": [
            "Only quantizing layer:  \n",
            "Only quantizing layer:  0\n",
            "Only quantizing layer:  1\n",
            "Only quantizing layer:  2\n",
            "Only quantizing layer:  3\n"
          ]
        },
        {
          "output_type": "stream",
          "name": "stderr",
          "text": [
            "/usr/local/lib/python3.8/dist-packages/torch/ao/quantization/observer.py:1204: UserWarning: must run observer before calling calculate_qparams.                                    Returning default scale and zero point \n",
            "  warnings.warn(\n"
          ]
        }
      ]
    },
    {
      "cell_type": "markdown",
      "source": [
        "https://pytorch.org/assets/images/quantization-practice/compare_output_ns.png"
      ],
      "metadata": {
        "id": "oO0qpMDtoug1"
      }
    },
    {
      "cell_type": "code",
      "source": [
        "# #extract from https://pytorch.org/tutorials/prototype/numeric_suite_tutorial.html\n",
        "# import torch.quantization._numeric_suite as ns\n",
        "\n",
        "# def SQNR(x, y):\n",
        "#     # Higher is better\n",
        "#     Ps = torch.norm(x)\n",
        "#     Pn = torch.norm(x-y)\n",
        "#     return 20*torch.log10(Ps/Pn)\n",
        "\n",
        "# wt_compare_dict = ns.compare_weights(fp32_model.state_dict(), int8_model.state_dict())\n",
        "# for key in wt_compare_dict:\n",
        "#     print(key, compute_error(wt_compare_dict[key]['float'], wt_compare_dict[key]['quantized'].dequantize()))\n",
        "\n",
        "# act_compare_dict = ns.compare_model_outputs(fp32_model, int8_model, input_data)\n",
        "# for key in act_compare_dict:\n",
        "#     print(key, compute_error(act_compare_dict[key]['float'][0], act_compare_dict[key]['quantized'][0].dequantize()))\n"
      ],
      "metadata": {
        "id": "FW_3MCwoipKB"
      },
      "execution_count": null,
      "outputs": []
    }
  ]
}